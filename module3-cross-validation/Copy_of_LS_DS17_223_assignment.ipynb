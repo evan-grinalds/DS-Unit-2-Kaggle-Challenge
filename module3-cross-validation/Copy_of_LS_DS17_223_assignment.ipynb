{
  "nbformat": 4,
  "nbformat_minor": 0,
  "metadata": {
    "kernelspec": {
      "display_name": "Python 3",
      "language": "python",
      "name": "python3"
    },
    "language_info": {
      "codemirror_mode": {
        "name": "ipython",
        "version": 3
      },
      "file_extension": ".py",
      "mimetype": "text/x-python",
      "name": "python",
      "nbconvert_exporter": "python",
      "pygments_lexer": "ipython3",
      "version": "3.7.6"
    },
    "colab": {
      "name": "Copy of LS_DS17_223_assignment.ipynb",
      "provenance": [],
      "include_colab_link": true
    }
  },
  "cells": [
    {
      "cell_type": "markdown",
      "metadata": {
        "id": "view-in-github",
        "colab_type": "text"
      },
      "source": [
        "<a href=\"https://colab.research.google.com/github/evan-grinalds/DS-Unit-2-Kaggle-Challenge/blob/master/module3-cross-validation/Copy_of_LS_DS17_223_assignment.ipynb\" target=\"_parent\"><img src=\"https://colab.research.google.com/assets/colab-badge.svg\" alt=\"Open In Colab\"/></a>"
      ]
    },
    {
      "cell_type": "markdown",
      "metadata": {
        "id": "09OwuSBhRQTC",
        "colab_type": "text"
      },
      "source": [
        "Lambda School Data Science\n",
        "\n",
        "*Unit 2, Sprint 2, Module 3*\n",
        "\n",
        "---"
      ]
    },
    {
      "cell_type": "markdown",
      "metadata": {
        "id": "cBOIFZhxRQTD",
        "colab_type": "text"
      },
      "source": [
        "# Cross-Validation\n",
        "\n",
        "\n",
        "## Assignment\n",
        "- [ ] [Review requirements for your portfolio project](https://lambdaschool.github.io/ds/unit2), then submit your dataset.\n",
        "- [ ] Continue to participate in our Kaggle challenge. \n",
        "- [ ] Use scikit-learn for hyperparameter optimization with RandomizedSearchCV.\n",
        "- [ ] Submit your predictions to our Kaggle competition. (Go to our Kaggle InClass competition webpage. Use the blue **Submit Predictions** button to upload your CSV file. Or you can use the Kaggle API to submit your predictions.)\n",
        "- [ ] Commit your notebook to your fork of the GitHub repo.\n",
        "\n",
        "\n",
        "**You can't just copy** from the lesson notebook to this assignment.\n",
        "\n",
        "- Because the lesson was **regression**, but the assignment is **classification.**\n",
        "- Because the lesson used [TargetEncoder](https://contrib.scikit-learn.org/categorical-encoding/targetencoder.html), which doesn't work as-is for _multi-class_ classification.\n",
        "\n",
        "So you will have to adapt the example, which is good real-world practice.\n",
        "\n",
        "1. Use a model for classification, such as [RandomForestClassifier](https://scikit-learn.org/stable/modules/generated/sklearn.ensemble.RandomForestClassifier.html)\n",
        "2. Use hyperparameters that match the classifier, such as `randomforestclassifier__ ...`\n",
        "3. Use a metric for classification, such as [`scoring='accuracy'`](https://scikit-learn.org/stable/modules/model_evaluation.html#common-cases-predefined-values)\n",
        "4. If you’re doing a multi-class classification problem — such as whether a waterpump is functional, functional needs repair, or nonfunctional — then use a categorical encoding that works for multi-class classification, such as [OrdinalEncoder](https://contrib.scikit-learn.org/categorical-encoding/ordinal.html) (not [TargetEncoder](https://contrib.scikit-learn.org/categorical-encoding/targetencoder.html))\n",
        "\n",
        "\n",
        "\n",
        "## Stretch Goals\n",
        "\n",
        "### Reading\n",
        "- Jake VanderPlas, [Python Data Science Handbook, Chapter 5.3](https://jakevdp.github.io/PythonDataScienceHandbook/05.03-hyperparameters-and-model-validation.html), Hyperparameters and Model Validation\n",
        "- Jake VanderPlas, [Statistics for Hackers](https://speakerdeck.com/jakevdp/statistics-for-hackers?slide=107)\n",
        "- Ron Zacharski, [A Programmer's Guide to Data Mining, Chapter 5](http://guidetodatamining.com/chapter5/), 10-fold cross validation\n",
        "- Sebastian Raschka, [A Basic Pipeline and Grid Search Setup](https://github.com/rasbt/python-machine-learning-book/blob/master/code/bonus/svm_iris_pipeline_and_gridsearch.ipynb)\n",
        "- Peter Worcester, [A Comparison of Grid Search and Randomized Search Using Scikit Learn](https://blog.usejournal.com/a-comparison-of-grid-search-and-randomized-search-using-scikit-learn-29823179bc85)\n",
        "\n",
        "### Doing\n",
        "- Add your own stretch goals!\n",
        "- Try other [categorical encodings](https://contrib.scikit-learn.org/categorical-encoding/). See the previous assignment notebook for details.\n",
        "- In additon to `RandomizedSearchCV`, scikit-learn has [`GridSearchCV`](https://scikit-learn.org/stable/modules/generated/sklearn.model_selection.GridSearchCV.html). Another library called scikit-optimize has [`BayesSearchCV`](https://scikit-optimize.github.io/notebooks/sklearn-gridsearchcv-replacement.html). Experiment with these alternatives.\n",
        "- _[Introduction to Machine Learning with Python](http://shop.oreilly.com/product/0636920030515.do)_ discusses options for \"Grid-Searching Which Model To Use\" in Chapter 6:\n",
        "\n",
        "> You can even go further in combining GridSearchCV and Pipeline: it is also possible to search over the actual steps being performed in the pipeline (say whether to use StandardScaler or MinMaxScaler). This leads to an even bigger search space and should be considered carefully. Trying all possible solutions is usually not a viable machine learning strategy. However, here is an example comparing a RandomForestClassifier and an SVC ...\n",
        "\n",
        "The example is shown in [the accompanying notebook](https://github.com/amueller/introduction_to_ml_with_python/blob/master/06-algorithm-chains-and-pipelines.ipynb), code cells 35-37. Could you apply this concept to your own pipelines?\n"
      ]
    },
    {
      "cell_type": "markdown",
      "metadata": {
        "id": "o5fXnE6_RQTE",
        "colab_type": "text"
      },
      "source": [
        "### BONUS: Stacking!\n",
        "\n",
        "Here's some code you can use to \"stack\" multiple submissions, which is another form of ensembling:\n",
        "\n",
        "```python\n",
        "import pandas as pd\n",
        "\n",
        "# Filenames of your submissions you want to ensemble\n",
        "files = ['submission-01.csv', 'submission-02.csv', 'submission-03.csv']\n",
        "\n",
        "target = 'status_group'\n",
        "submissions = (pd.read_csv(file)[[target]] for file in files)\n",
        "ensemble = pd.concat(submissions, axis='columns')\n",
        "majority_vote = ensemble.mode(axis='columns')[0]\n",
        "\n",
        "sample_submission = pd.read_csv('sample_submission.csv')\n",
        "submission = sample_submission.copy()\n",
        "submission[target] = majority_vote\n",
        "submission.to_csv('my-ultimate-ensemble-submission.csv', index=False)\n",
        "```"
      ]
    },
    {
      "cell_type": "code",
      "metadata": {
        "id": "8hFmhzqsRQTF",
        "colab_type": "code",
        "colab": {}
      },
      "source": [
        "%%capture\n",
        "import sys\n",
        "\n",
        "# If you're on Colab:\n",
        "if 'google.colab' in sys.modules:\n",
        "    DATA_PATH = 'https://raw.githubusercontent.com/LambdaSchool/DS-Unit-2-Kaggle-Challenge/master/data/'\n",
        "    !pip install category_encoders==2.*\n",
        "\n",
        "# If you're working locally:\n",
        "else:\n",
        "    DATA_PATH = '../data/'"
      ],
      "execution_count": 2,
      "outputs": []
    },
    {
      "cell_type": "code",
      "metadata": {
        "id": "iUnlCDy8RQTJ",
        "colab_type": "code",
        "colab": {}
      },
      "source": [
        "import pandas as pd\n",
        "\n",
        "# Merge train_features.csv & train_labels.csv\n",
        "train = pd.merge(pd.read_csv(DATA_PATH+'waterpumps/train_features.csv'), \n",
        "                 pd.read_csv(DATA_PATH+'waterpumps/train_labels.csv'))\n",
        "\n",
        "# Read test_features.csv & sample_submission.csv\n",
        "test = pd.read_csv(DATA_PATH+'waterpumps/test_features.csv')\n",
        "sample_submission = pd.read_csv(DATA_PATH+'waterpumps/sample_submission.csv')"
      ],
      "execution_count": 3,
      "outputs": []
    },
    {
      "cell_type": "code",
      "metadata": {
        "id": "vOf0ckSnRQTN",
        "colab_type": "code",
        "colab": {
          "base_uri": "https://localhost:8080/",
          "height": 34
        },
        "outputId": "38dcd42d-949d-440a-db0d-083ecd87b7fd"
      },
      "source": [
        "train.shape, test.shape"
      ],
      "execution_count": 4,
      "outputs": [
        {
          "output_type": "execute_result",
          "data": {
            "text/plain": [
              "((59400, 41), (14358, 40))"
            ]
          },
          "metadata": {
            "tags": []
          },
          "execution_count": 4
        }
      ]
    },
    {
      "cell_type": "code",
      "metadata": {
        "id": "CL6_z36BRqLE",
        "colab_type": "code",
        "colab": {}
      },
      "source": [
        "# Defining a function to wrangle train, validate, and test sets \n",
        "import numpy as np\n",
        "\n",
        "def wrangle(X):\n",
        "    \n",
        "    # Prevent SettingWithCopyWarning\n",
        "    X = X.copy()\n",
        "    \n",
        "    # Setting latitude values near zero equal to zero\n",
        "    X['latitude'] = X['latitude'].replace(-2e-08, 0)\n",
        "    \n",
        "    # replace zeros with nulls\n",
        "    cols_with_zeros = ['longitude', 'latitude','district_code','amount_tsh',\n",
        "                       'population','construction_year','num_private']\n",
        "    for col in cols_with_zeros:\n",
        "        X[col] = X[col].replace(0, np.nan)\n",
        "            \n",
        "    # Drop duplicate columns\n",
        "    duplicates = ['quantity_group', 'payment_type', 'waterpoint_type_group',\n",
        "                  'extraction_type_group','extraction_type_class','source_type']\n",
        "    X = X.drop(columns=duplicates)\n",
        "    \n",
        "    # Drop unusable columns\n",
        "    unusable_variance = ['recorded_by', 'id']\n",
        "    X = X.drop(columns=unusable_variance)\n",
        "    \n",
        "    # Convert date_recorded to datetime\n",
        "    X['date_recorded'] = pd.to_datetime(X['date_recorded'], infer_datetime_format=True)\n",
        "    \n",
        "    # Extract components from date_recorded, then drop the original column\n",
        "    # This will give us just the year for the next feature\n",
        "    X['year_recorded'] = X['date_recorded'].dt.year\n",
        "    X['month_recorded'] = X['date_recorded'].dt.month\n",
        "    X['day_recorded'] = X['date_recorded'].dt.day\n",
        "    X = X.drop(columns='date_recorded')\n",
        "     \n",
        "    # creating columns 'years' and 'years_MISSING' \n",
        "    # to represent years from construction_year to date_recorded\n",
        "    X['years'] = X['year_recorded'] - X['construction_year']\n",
        "    X['years_MISSING'] = X['years'].isnull()\n",
        "    \n",
        "    # return the wrangled dataframe\n",
        "    return X\n",
        "\n",
        "train = wrangle(train)\n",
        "test = wrangle(test)"
      ],
      "execution_count": 5,
      "outputs": []
    },
    {
      "cell_type": "code",
      "metadata": {
        "id": "vTxRFS6sRtSI",
        "colab_type": "code",
        "colab": {
          "base_uri": "https://localhost:8080/",
          "height": 54
        },
        "outputId": "8aa8e23e-39e1-49de-dc57-5dc98c2ae192"
      },
      "source": [
        "# setting target\n",
        "target = 'status_group'\n",
        "\n",
        "# train features, dropping target\n",
        "train_features = train.drop(columns=[target])\n",
        "\n",
        "# list of the numeric features\n",
        "numeric_features = train_features.select_dtypes(include='number').columns.tolist()\n",
        "\n",
        "# series with the cardinality of the nonnumeric features\n",
        "cardinality = train_features.select_dtypes(exclude='number').nunique()\n",
        "\n",
        "# list of all categorical features with cardinality <= 50\n",
        "categorical_features = cardinality[cardinality <= 50].index.tolist()\n",
        "\n",
        "# Combine the lists \n",
        "features = numeric_features + categorical_features\n",
        "\n",
        "print(features)"
      ],
      "execution_count": 6,
      "outputs": [
        {
          "output_type": "stream",
          "text": [
            "['amount_tsh', 'gps_height', 'longitude', 'latitude', 'num_private', 'region_code', 'district_code', 'population', 'construction_year', 'year_recorded', 'month_recorded', 'day_recorded', 'years', 'basin', 'region', 'public_meeting', 'scheme_management', 'permit', 'extraction_type', 'management', 'management_group', 'payment', 'water_quality', 'quality_group', 'quantity', 'source', 'source_class', 'waterpoint_type', 'years_MISSING']\n"
          ],
          "name": "stdout"
        }
      ]
    },
    {
      "cell_type": "code",
      "metadata": {
        "id": "-4MoVjjZRwNd",
        "colab_type": "code",
        "colab": {
          "base_uri": "https://localhost:8080/",
          "height": 34
        },
        "outputId": "7e31eaf2-6ed5-4fa0-c357-bc8dca3db3b8"
      },
      "source": [
        "X_train = train[features]\n",
        "y_train = train[target]\n",
        "X_test = test\n",
        "\n",
        "X_train.shape, y_train.shape, X_test.shape"
      ],
      "execution_count": 7,
      "outputs": [
        {
          "output_type": "execute_result",
          "data": {
            "text/plain": [
              "((59400, 29), (59400,), (14358, 36))"
            ]
          },
          "metadata": {
            "tags": []
          },
          "execution_count": 7
        }
      ]
    },
    {
      "cell_type": "code",
      "metadata": {
        "id": "4o5LRxUnRy1U",
        "colab_type": "code",
        "colab": {
          "base_uri": "https://localhost:8080/",
          "height": 71
        },
        "outputId": "60f25341-0d85-4727-a2a7-c29741a0adbc"
      },
      "source": [
        "# importing all libraries\n",
        "import category_encoders as ce\n",
        "from sklearn.ensemble import RandomForestClassifier\n",
        "from sklearn.impute import SimpleImputer\n",
        "from sklearn.pipeline import make_pipeline\n",
        "from sklearn.model_selection import cross_val_score"
      ],
      "execution_count": 8,
      "outputs": [
        {
          "output_type": "stream",
          "text": [
            "/usr/local/lib/python3.6/dist-packages/statsmodels/tools/_testing.py:19: FutureWarning: pandas.util.testing is deprecated. Use the functions in the public API at pandas.testing instead.\n",
            "  import pandas.util.testing as tm\n"
          ],
          "name": "stderr"
        }
      ]
    },
    {
      "cell_type": "code",
      "metadata": {
        "id": "3ZchUXGbR2mD",
        "colab_type": "code",
        "colab": {
          "base_uri": "https://localhost:8080/",
          "height": 51
        },
        "outputId": "9c2a4034-a515-4b86-ff41-0e13de2c5ef6"
      },
      "source": [
        "# Making pipeline, Ordinal Encoding with a RandomForestClassifier\n",
        "\n",
        "target = 'status_group'\n",
        "features = numeric_features + categorical_features\n",
        "\n",
        "X_train = train[features]\n",
        "y_train = train[target]\n",
        "\n",
        "\n",
        "pipeline = make_pipeline(\n",
        "    ce.OrdinalEncoder(),\n",
        "    SimpleImputer(strategy='mean'), \n",
        "    RandomForestClassifier(n_estimators=100, random_state=42, n_jobs=-1, max_depth=18) \n",
        ")\n",
        "\n",
        "k = 10\n",
        "scores = cross_val_score(pipeline, X_train, y_train, cv=k, \n",
        "                         scoring='accuracy')\n",
        "print(f'Accuracy Scores for {k} folds:', scores)\n",
        "%%time"
      ],
      "execution_count": 9,
      "outputs": [
        {
          "output_type": "stream",
          "text": [
            "Accuracy Scores for 10 folds: [0.81632997 0.81969697 0.81127946 0.803367   0.82037037 0.8037037\n",
            " 0.81548822 0.8016835  0.8040404  0.81801347]\n"
          ],
          "name": "stdout"
        }
      ]
    },
    {
      "cell_type": "code",
      "metadata": {
        "id": "JYAbDq5FSUfM",
        "colab_type": "code",
        "colab": {
          "base_uri": "https://localhost:8080/",
          "height": 34
        },
        "outputId": "22c935d6-750a-4445-89ff-0a1726d83670"
      },
      "source": [
        "scores.mean()"
      ],
      "execution_count": 10,
      "outputs": [
        {
          "output_type": "execute_result",
          "data": {
            "text/plain": [
              "0.8113973063973065"
            ]
          },
          "metadata": {
            "tags": []
          },
          "execution_count": 10
        }
      ]
    },
    {
      "cell_type": "code",
      "metadata": {
        "id": "73giOInuSct-",
        "colab_type": "code",
        "colab": {
          "base_uri": "https://localhost:8080/",
          "height": 170
        },
        "outputId": "01ae9f77-1bd1-4f31-c511-3bed0f0b204f"
      },
      "source": [
        "# Looking at hyperparameters \n",
        "\n",
        "print('Model Hyperparameters:')\n",
        "print(pipeline.named_steps['randomforestclassifier'])"
      ],
      "execution_count": 11,
      "outputs": [
        {
          "output_type": "stream",
          "text": [
            "Model Hyperparameters:\n",
            "RandomForestClassifier(bootstrap=True, ccp_alpha=0.0, class_weight=None,\n",
            "                       criterion='gini', max_depth=18, max_features='auto',\n",
            "                       max_leaf_nodes=None, max_samples=None,\n",
            "                       min_impurity_decrease=0.0, min_impurity_split=None,\n",
            "                       min_samples_leaf=1, min_samples_split=2,\n",
            "                       min_weight_fraction_leaf=0.0, n_estimators=100,\n",
            "                       n_jobs=-1, oob_score=False, random_state=42, verbose=0,\n",
            "                       warm_start=False)\n"
          ],
          "name": "stdout"
        }
      ]
    },
    {
      "cell_type": "code",
      "metadata": {
        "id": "oC7I2pNcSfv6",
        "colab_type": "code",
        "colab": {
          "base_uri": "https://localhost:8080/",
          "height": 595
        },
        "outputId": "fe4c9e10-1980-45af-9b41-30f69d7012da"
      },
      "source": [
        "# Plotting validation curve\n",
        "%matplotlib inline\n",
        "import matplotlib.pyplot as plt\n",
        "from sklearn.model_selection import validation_curve\n",
        "from sklearn.tree import DecisionTreeClassifier\n",
        "\n",
        "pipeline = make_pipeline(\n",
        "    ce.OrdinalEncoder(), \n",
        "    SimpleImputer(), \n",
        "    DecisionTreeClassifier()\n",
        ")\n",
        "\n",
        "depth = range(1, 30, 3)\n",
        "train_scores, val_scores = validation_curve(\n",
        "    pipeline, X_train, y_train,\n",
        "    param_name='decisiontreeclassifier__max_depth', \n",
        "    param_range=depth, scoring='accuracy', \n",
        "    cv=3,\n",
        "    n_jobs=-1\n",
        ")\n",
        "\n",
        "plt.figure(dpi=150)\n",
        "plt.plot(depth, np.mean(-train_scores, axis=1), color='blue', label='training error')\n",
        "plt.plot(depth, np.mean(-val_scores, axis=1), color='red', label='validation error')\n",
        "plt.title('Validation Curve')\n",
        "plt.xlabel('model complexity: RandomForestClassifier max_depth')\n",
        "plt.ylabel('model score: Accuracy')\n",
        "plt.legend();"
      ],
      "execution_count": 12,
      "outputs": [
        {
          "output_type": "display_data",
          "data": {
            "image/png": "[encoded data removed]",
            "text/plain": [
              "<Figure size 900x600 with 1 Axes>"
            ]
          },
          "metadata": {
            "tags": [],
            "needs_background": "light"
          }
        }
      ]
    },
    {
      "cell_type": "code",
      "metadata": {
        "id": "rCQ1j_txSms8",
        "colab_type": "code",
        "colab": {
          "base_uri": "https://localhost:8080/",
          "height": 207
        },
        "outputId": "d8dba657-ff56-40b7-d493-4d9d2b23be00"
      },
      "source": [
        "# Using RandomizedSearchCV to find optimal values for hyperparameters\n",
        "from sklearn.model_selection import GridSearchCV, RandomizedSearchCV\n",
        "from scipy.stats import randint, uniform\n",
        "\n",
        "features = numeric_features + categorical_features\n",
        "X_train = train[features]\n",
        "y_train = train[target]\n",
        "\n",
        "# making pipeline for random search\n",
        "pipeline = make_pipeline(\n",
        "    ce.OrdinalEncoder(), \n",
        "    SimpleImputer(), \n",
        "    RandomForestClassifier(random_state=42)\n",
        ")\n",
        "\n",
        "# setting parameter distributions\n",
        "param_distributions = {\n",
        "    'simpleimputer__strategy': ['mean', 'median'], \n",
        "    'randomforestclassifier__n_estimators': randint(50, 500), \n",
        "    'randomforestclassifier__max_depth': [5, 10, 15, 20, None], \n",
        "    'randomforestclassifier__max_features': uniform(0, 1), \n",
        "}\n",
        "\n",
        "# Using colab I will set n_iter = 10 and cv = 3 (for a quicker run)\n",
        "search = RandomizedSearchCV(     \n",
        "    pipeline, \n",
        "    param_distributions=param_distributions, \n",
        "    n_iter=10, \n",
        "    cv=3, \n",
        "    scoring='accuracy', \n",
        "    verbose=10, \n",
        "    return_train_score=True, \n",
        "    n_jobs=-1\n",
        ")\n",
        "\n",
        "search.fit(X_train, y_train);"
      ],
      "execution_count": 13,
      "outputs": [
        {
          "output_type": "stream",
          "text": [
            "Fitting 3 folds for each of 10 candidates, totalling 30 fits\n"
          ],
          "name": "stdout"
        },
        {
          "output_type": "stream",
          "text": [
            "[Parallel(n_jobs=-1)]: Using backend LokyBackend with 2 concurrent workers.\n",
            "[Parallel(n_jobs=-1)]: Done   1 tasks      | elapsed:  1.1min\n",
            "/usr/local/lib/python3.6/dist-packages/joblib/externals/loky/process_executor.py:691: UserWarning: A worker stopped while some jobs were given to the executor. This can be caused by a too short worker timeout or by a memory leak.\n",
            "  \"timeout or by a memory leak.\", UserWarning\n",
            "[Parallel(n_jobs=-1)]: Done   4 tasks      | elapsed:  2.2min\n",
            "[Parallel(n_jobs=-1)]: Done   9 tasks      | elapsed:  3.2min\n",
            "[Parallel(n_jobs=-1)]: Done  14 tasks      | elapsed:  4.7min\n",
            "[Parallel(n_jobs=-1)]: Done  21 tasks      | elapsed:  5.7min\n",
            "[Parallel(n_jobs=-1)]: Done  30 out of  30 | elapsed:  9.5min finished\n"
          ],
          "name": "stderr"
        }
      ]
    },
    {
      "cell_type": "code",
      "metadata": {
        "id": "eUPHzC56TQtP",
        "colab_type": "code",
        "colab": {
          "base_uri": "https://localhost:8080/",
          "height": 71
        },
        "outputId": "0bb04d2f-83e8-4f88-c21e-c4513b994f1c"
      },
      "source": [
        "print('Best hyperparameters', search.best_params_)\n",
        "print('Accuracy', search.best_score_)"
      ],
      "execution_count": 15,
      "outputs": [
        {
          "output_type": "stream",
          "text": [
            "Best hyperparameters {'randomforestclassifier__max_depth': 20, 'randomforestclassifier__max_features': 0.121369326703893, 'randomforestclassifier__n_estimators': 231, 'simpleimputer__strategy': 'median'}\n",
            "Accuracy 0.8062794612794613\n"
          ],
          "name": "stdout"
        }
      ]
    },
    {
      "cell_type": "code",
      "metadata": {
        "id": "2VUnFMXTTWie",
        "colab_type": "code",
        "colab": {
          "base_uri": "https://localhost:8080/",
          "height": 706
        },
        "outputId": "7a5127a1-8333-40ed-ad3d-6728baaada12"
      },
      "source": [
        "pd.DataFrame(search.cv_results_).sort_values(by='rank_test_score').T"
      ],
      "execution_count": 16,
      "outputs": [
        {
          "output_type": "execute_result",
          "data": {
            "text/html": [
              "<div>\n",
              "<style scoped>\n",
              "    .dataframe tbody tr th:only-of-type {\n",
              "        vertical-align: middle;\n",
              "    }\n",
              "\n",
              "    .dataframe tbody tr th {\n",
              "        vertical-align: top;\n",
              "    }\n",
              "\n",
              "    .dataframe thead th {\n",
              "        text-align: right;\n",
              "    }\n",
              "</style>\n",
              "<table border=\"1\" class=\"dataframe\">\n",
              "  <thead>\n",
              "    <tr style=\"text-align: right;\">\n",
              "      <th></th>\n",
              "      <th>2</th>\n",
              "      <th>7</th>\n",
              "      <th>0</th>\n",
              "      <th>4</th>\n",
              "      <th>8</th>\n",
              "      <th>6</th>\n",
              "      <th>9</th>\n",
              "      <th>5</th>\n",
              "      <th>3</th>\n",
              "      <th>1</th>\n",
              "    </tr>\n",
              "  </thead>\n",
              "  <tbody>\n",
              "    <tr>\n",
              "      <th>mean_fit_time</th>\n",
              "      <td>18.066</td>\n",
              "      <td>72.2267</td>\n",
              "      <td>57.7457</td>\n",
              "      <td>11.6332</td>\n",
              "      <td>13.1504</td>\n",
              "      <td>17.2568</td>\n",
              "      <td>41.4382</td>\n",
              "      <td>11.7278</td>\n",
              "      <td>43.9794</td>\n",
              "      <td>36.9607</td>\n",
              "    </tr>\n",
              "    <tr>\n",
              "      <th>std_fit_time</th>\n",
              "      <td>0.10578</td>\n",
              "      <td>0.540718</td>\n",
              "      <td>0.44029</td>\n",
              "      <td>0.145042</td>\n",
              "      <td>0.0574192</td>\n",
              "      <td>0.143927</td>\n",
              "      <td>5.50851</td>\n",
              "      <td>0.0453604</td>\n",
              "      <td>0.308486</td>\n",
              "      <td>0.191487</td>\n",
              "    </tr>\n",
              "    <tr>\n",
              "      <th>mean_score_time</th>\n",
              "      <td>1.70715</td>\n",
              "      <td>3.27671</td>\n",
              "      <td>2.323</td>\n",
              "      <td>0.654144</td>\n",
              "      <td>2.03562</td>\n",
              "      <td>0.767796</td>\n",
              "      <td>2.06095</td>\n",
              "      <td>0.66276</td>\n",
              "      <td>0.822003</td>\n",
              "      <td>0.801007</td>\n",
              "    </tr>\n",
              "    <tr>\n",
              "      <th>std_score_time</th>\n",
              "      <td>0.0573056</td>\n",
              "      <td>0.0277146</td>\n",
              "      <td>0.0366819</td>\n",
              "      <td>0.00985705</td>\n",
              "      <td>0.0350509</td>\n",
              "      <td>0.0162524</td>\n",
              "      <td>0.351495</td>\n",
              "      <td>0.0169181</td>\n",
              "      <td>0.00358842</td>\n",
              "      <td>0.0118021</td>\n",
              "    </tr>\n",
              "    <tr>\n",
              "      <th>param_randomforestclassifier__max_depth</th>\n",
              "      <td>20</td>\n",
              "      <td>20</td>\n",
              "      <td>20</td>\n",
              "      <td>None</td>\n",
              "      <td>None</td>\n",
              "      <td>15</td>\n",
              "      <td>15</td>\n",
              "      <td>10</td>\n",
              "      <td>5</td>\n",
              "      <td>5</td>\n",
              "    </tr>\n",
              "    <tr>\n",
              "      <th>param_randomforestclassifier__max_features</th>\n",
              "      <td>0.121369</td>\n",
              "      <td>0.291594</td>\n",
              "      <td>0.327894</td>\n",
              "      <td>0.320417</td>\n",
              "      <td>0.00871381</td>\n",
              "      <td>0.322681</td>\n",
              "      <td>0.239438</td>\n",
              "      <td>0.229516</td>\n",
              "      <td>0.837263</td>\n",
              "      <td>0.731967</td>\n",
              "    </tr>\n",
              "    <tr>\n",
              "      <th>param_randomforestclassifier__n_estimators</th>\n",
              "      <td>231</td>\n",
              "      <td>467</td>\n",
              "      <td>346</td>\n",
              "      <td>62</td>\n",
              "      <td>220</td>\n",
              "      <td>112</td>\n",
              "      <td>423</td>\n",
              "      <td>139</td>\n",
              "      <td>303</td>\n",
              "      <td>286</td>\n",
              "    </tr>\n",
              "    <tr>\n",
              "      <th>param_simpleimputer__strategy</th>\n",
              "      <td>median</td>\n",
              "      <td>median</td>\n",
              "      <td>median</td>\n",
              "      <td>mean</td>\n",
              "      <td>median</td>\n",
              "      <td>mean</td>\n",
              "      <td>median</td>\n",
              "      <td>mean</td>\n",
              "      <td>median</td>\n",
              "      <td>mean</td>\n",
              "    </tr>\n",
              "    <tr>\n",
              "      <th>params</th>\n",
              "      <td>{'randomforestclassifier__max_depth': 20, 'ran...</td>\n",
              "      <td>{'randomforestclassifier__max_depth': 20, 'ran...</td>\n",
              "      <td>{'randomforestclassifier__max_depth': 20, 'ran...</td>\n",
              "      <td>{'randomforestclassifier__max_depth': None, 'r...</td>\n",
              "      <td>{'randomforestclassifier__max_depth': None, 'r...</td>\n",
              "      <td>{'randomforestclassifier__max_depth': 15, 'ran...</td>\n",
              "      <td>{'randomforestclassifier__max_depth': 15, 'ran...</td>\n",
              "      <td>{'randomforestclassifier__max_depth': 10, 'ran...</td>\n",
              "      <td>{'randomforestclassifier__max_depth': 5, 'rand...</td>\n",
              "      <td>{'randomforestclassifier__max_depth': 5, 'rand...</td>\n",
              "    </tr>\n",
              "    <tr>\n",
              "      <th>split0_test_score</th>\n",
              "      <td>0.806566</td>\n",
              "      <td>0.806414</td>\n",
              "      <td>0.805505</td>\n",
              "      <td>0.800657</td>\n",
              "      <td>0.799747</td>\n",
              "      <td>0.796869</td>\n",
              "      <td>0.796616</td>\n",
              "      <td>0.755354</td>\n",
              "      <td>0.718131</td>\n",
              "      <td>0.718485</td>\n",
              "    </tr>\n",
              "    <tr>\n",
              "      <th>split1_test_score</th>\n",
              "      <td>0.806818</td>\n",
              "      <td>0.807374</td>\n",
              "      <td>0.80697</td>\n",
              "      <td>0.801212</td>\n",
              "      <td>0.798131</td>\n",
              "      <td>0.79697</td>\n",
              "      <td>0.796667</td>\n",
              "      <td>0.757677</td>\n",
              "      <td>0.714141</td>\n",
              "      <td>0.71197</td>\n",
              "    </tr>\n",
              "    <tr>\n",
              "      <th>split2_test_score</th>\n",
              "      <td>0.805455</td>\n",
              "      <td>0.804545</td>\n",
              "      <td>0.805202</td>\n",
              "      <td>0.799596</td>\n",
              "      <td>0.794394</td>\n",
              "      <td>0.797323</td>\n",
              "      <td>0.795505</td>\n",
              "      <td>0.75702</td>\n",
              "      <td>0.718889</td>\n",
              "      <td>0.718434</td>\n",
              "    </tr>\n",
              "    <tr>\n",
              "      <th>mean_test_score</th>\n",
              "      <td>0.806279</td>\n",
              "      <td>0.806111</td>\n",
              "      <td>0.805892</td>\n",
              "      <td>0.800488</td>\n",
              "      <td>0.797424</td>\n",
              "      <td>0.797054</td>\n",
              "      <td>0.796263</td>\n",
              "      <td>0.756684</td>\n",
              "      <td>0.717054</td>\n",
              "      <td>0.716296</td>\n",
              "    </tr>\n",
              "    <tr>\n",
              "      <th>std_test_score</th>\n",
              "      <td>0.000592344</td>\n",
              "      <td>0.00117436</td>\n",
              "      <td>0.000771845</td>\n",
              "      <td>0.000670448</td>\n",
              "      <td>0.00224203</td>\n",
              "      <td>0.000194879</td>\n",
              "      <td>0.000536084</td>\n",
              "      <td>0.000977881</td>\n",
              "      <td>0.00208251</td>\n",
              "      <td>0.00305944</td>\n",
              "    </tr>\n",
              "    <tr>\n",
              "      <th>rank_test_score</th>\n",
              "      <td>1</td>\n",
              "      <td>2</td>\n",
              "      <td>3</td>\n",
              "      <td>4</td>\n",
              "      <td>5</td>\n",
              "      <td>6</td>\n",
              "      <td>7</td>\n",
              "      <td>8</td>\n",
              "      <td>9</td>\n",
              "      <td>10</td>\n",
              "    </tr>\n",
              "    <tr>\n",
              "      <th>split0_train_score</th>\n",
              "      <td>0.939798</td>\n",
              "      <td>0.95202</td>\n",
              "      <td>0.951768</td>\n",
              "      <td>0.997626</td>\n",
              "      <td>0.998005</td>\n",
              "      <td>0.86702</td>\n",
              "      <td>0.861515</td>\n",
              "      <td>0.773056</td>\n",
              "      <td>0.723359</td>\n",
              "      <td>0.723081</td>\n",
              "    </tr>\n",
              "    <tr>\n",
              "      <th>split1_train_score</th>\n",
              "      <td>0.94601</td>\n",
              "      <td>0.958662</td>\n",
              "      <td>0.95803</td>\n",
              "      <td>0.997929</td>\n",
              "      <td>0.998308</td>\n",
              "      <td>0.881187</td>\n",
              "      <td>0.875101</td>\n",
              "      <td>0.777828</td>\n",
              "      <td>0.717146</td>\n",
              "      <td>0.715833</td>\n",
              "    </tr>\n",
              "    <tr>\n",
              "      <th>split2_train_score</th>\n",
              "      <td>0.95101</td>\n",
              "      <td>0.963081</td>\n",
              "      <td>0.963535</td>\n",
              "      <td>0.997475</td>\n",
              "      <td>0.997854</td>\n",
              "      <td>0.885177</td>\n",
              "      <td>0.879343</td>\n",
              "      <td>0.779141</td>\n",
              "      <td>0.716843</td>\n",
              "      <td>0.716111</td>\n",
              "    </tr>\n",
              "    <tr>\n",
              "      <th>mean_train_score</th>\n",
              "      <td>0.945606</td>\n",
              "      <td>0.957921</td>\n",
              "      <td>0.957778</td>\n",
              "      <td>0.997677</td>\n",
              "      <td>0.998056</td>\n",
              "      <td>0.877795</td>\n",
              "      <td>0.871987</td>\n",
              "      <td>0.776675</td>\n",
              "      <td>0.719116</td>\n",
              "      <td>0.718342</td>\n",
              "    </tr>\n",
              "    <tr>\n",
              "      <th>std_train_score</th>\n",
              "      <td>0.00458624</td>\n",
              "      <td>0.00454575</td>\n",
              "      <td>0.00480745</td>\n",
              "      <td>0.000188973</td>\n",
              "      <td>0.000188973</td>\n",
              "      <td>0.00779084</td>\n",
              "      <td>0.00760425</td>\n",
              "      <td>0.00261493</td>\n",
              "      <td>0.0030024</td>\n",
              "      <td>0.00335294</td>\n",
              "    </tr>\n",
              "  </tbody>\n",
              "</table>\n",
              "</div>"
            ],
            "text/plain": [
              "                                                                                            2  ...                                                  1\n",
              "mean_fit_time                                                                          18.066  ...                                            36.9607\n",
              "std_fit_time                                                                          0.10578  ...                                           0.191487\n",
              "mean_score_time                                                                       1.70715  ...                                           0.801007\n",
              "std_score_time                                                                      0.0573056  ...                                          0.0118021\n",
              "param_randomforestclassifier__max_depth                                                    20  ...                                                  5\n",
              "param_randomforestclassifier__max_features                                           0.121369  ...                                           0.731967\n",
              "param_randomforestclassifier__n_estimators                                                231  ...                                                286\n",
              "param_simpleimputer__strategy                                                          median  ...                                               mean\n",
              "params                                      {'randomforestclassifier__max_depth': 20, 'ran...  ...  {'randomforestclassifier__max_depth': 5, 'rand...\n",
              "split0_test_score                                                                    0.806566  ...                                           0.718485\n",
              "split1_test_score                                                                    0.806818  ...                                            0.71197\n",
              "split2_test_score                                                                    0.805455  ...                                           0.718434\n",
              "mean_test_score                                                                      0.806279  ...                                           0.716296\n",
              "std_test_score                                                                    0.000592344  ...                                         0.00305944\n",
              "rank_test_score                                                                             1  ...                                                 10\n",
              "split0_train_score                                                                   0.939798  ...                                           0.723081\n",
              "split1_train_score                                                                    0.94601  ...                                           0.715833\n",
              "split2_train_score                                                                    0.95101  ...                                           0.716111\n",
              "mean_train_score                                                                     0.945606  ...                                           0.718342\n",
              "std_train_score                                                                    0.00458624  ...                                         0.00335294\n",
              "\n",
              "[20 rows x 10 columns]"
            ]
          },
          "metadata": {
            "tags": []
          },
          "execution_count": 16
        }
      ]
    },
    {
      "cell_type": "code",
      "metadata": {
        "id": "9e8jWEf7TYYG",
        "colab_type": "code",
        "colab": {}
      },
      "source": [
        "X_test = test[features]\n",
        "assert all(X_train.columns == X_test.columns)"
      ],
      "execution_count": 17,
      "outputs": []
    },
    {
      "cell_type": "code",
      "metadata": {
        "id": "deP9u-OVTaKT",
        "colab_type": "code",
        "colab": {}
      },
      "source": [
        "y_pred = search.best_estimator_.predict(X_test)"
      ],
      "execution_count": 20,
      "outputs": []
    },
    {
      "cell_type": "code",
      "metadata": {
        "id": "5_xcIEDrTcJL",
        "colab_type": "code",
        "colab": {}
      },
      "source": [
        "submission = sample_submission.copy()\n",
        "submission['status_group'] = y_pred\n",
        "submission.to_csv('EvanGrinalds223Prediction.csv', index=False)"
      ],
      "execution_count": 23,
      "outputs": []
    }
  ]
}